{
 "cells": [
  {
   "cell_type": "code",
   "execution_count": 1,
   "metadata": {},
   "outputs": [],
   "source": [
    "import matplotlib.pyplot as plt\n",
    "import pandas as pd\n",
    "import numpy as np\n",
    "import seaborn as sn\n",
    "from dateutil.parser import parse\n",
    "\n",
    "from sklearn.linear_model import LinearRegression"
   ]
  },
  {
   "cell_type": "code",
   "execution_count": 3,
   "metadata": {},
   "outputs": [
    {
     "data": {
      "text/plain": [
       "DATE                         object\n",
       "datetime_beginning_utc       object\n",
       "mw                          float64\n",
       "year                          int64\n",
       "month                         int64\n",
       "weekday                       int64\n",
       "hour                          int64\n",
       "HourlyDryBulbTemperature      int64\n",
       "dtype: object"
      ]
     },
     "execution_count": 3,
     "metadata": {},
     "output_type": "execute_result"
    }
   ],
   "source": [
    "df = pd.read_csv('timeseries_train.csv')\n",
    "df.dtypes"
   ]
  },
  {
   "cell_type": "code",
   "execution_count": 4,
   "metadata": {},
   "outputs": [
    {
     "data": {
      "text/plain": [
       "DATE        object\n",
       "mw         float64\n",
       "year         int64\n",
       "month        int64\n",
       "weekday      int64\n",
       "hour         int64\n",
       "temp         int64\n",
       "dtype: object"
      ]
     },
     "execution_count": 4,
     "metadata": {},
     "output_type": "execute_result"
    }
   ],
   "source": [
    "df.rename(columns={\"HourlyDryBulbTemperature\": \"temp\", \"datetime_beginning_utc\":\"Date\"}, inplace=True)\n",
    "df['Date'] = pd.to_datetime(df['Date'])\n",
    "df = df.set_index('Date')\n",
    "df.dtypes"
   ]
  },
  {
   "cell_type": "markdown",
   "metadata": {},
   "source": [
    "You saw that temperature had a quadratic-looking relationship with energy usage in the previous section.\n",
    "### Build a squared (quadratic) temperature variable to put into a linear regression model in the coming steps. "
   ]
  },
  {
   "cell_type": "code",
   "execution_count": 5,
   "metadata": {},
   "outputs": [
    {
     "name": "stdout",
     "output_type": "stream",
     "text": [
      "mean temp^2: 53.44765187419216, stdev: 18.8704042809213\n"
     ]
    },
    {
     "data": {
      "text/html": [
       "<div>\n",
       "<style scoped>\n",
       "    .dataframe tbody tr th:only-of-type {\n",
       "        vertical-align: middle;\n",
       "    }\n",
       "\n",
       "    .dataframe tbody tr th {\n",
       "        vertical-align: top;\n",
       "    }\n",
       "\n",
       "    .dataframe thead th {\n",
       "        text-align: right;\n",
       "    }\n",
       "</style>\n",
       "<table border=\"1\" class=\"dataframe\">\n",
       "  <thead>\n",
       "    <tr style=\"text-align: right;\">\n",
       "      <th></th>\n",
       "      <th>DATE</th>\n",
       "      <th>mw</th>\n",
       "      <th>year</th>\n",
       "      <th>month</th>\n",
       "      <th>weekday</th>\n",
       "      <th>hour</th>\n",
       "      <th>temp</th>\n",
       "      <th>temp2</th>\n",
       "    </tr>\n",
       "    <tr>\n",
       "      <th>Date</th>\n",
       "      <th></th>\n",
       "      <th></th>\n",
       "      <th></th>\n",
       "      <th></th>\n",
       "      <th></th>\n",
       "      <th></th>\n",
       "      <th></th>\n",
       "      <th></th>\n",
       "    </tr>\n",
       "  </thead>\n",
       "  <tbody>\n",
       "    <tr>\n",
       "      <th>2017-02-01 05:00:00</th>\n",
       "      <td>2017-02-01 05:00:00</td>\n",
       "      <td>1419.881</td>\n",
       "      <td>2017</td>\n",
       "      <td>2</td>\n",
       "      <td>2</td>\n",
       "      <td>5</td>\n",
       "      <td>36</td>\n",
       "      <td>0.854893</td>\n",
       "    </tr>\n",
       "    <tr>\n",
       "      <th>2017-02-01 06:00:00</th>\n",
       "      <td>2017-02-01 06:00:00</td>\n",
       "      <td>1379.505</td>\n",
       "      <td>2017</td>\n",
       "      <td>2</td>\n",
       "      <td>2</td>\n",
       "      <td>6</td>\n",
       "      <td>36</td>\n",
       "      <td>0.854893</td>\n",
       "    </tr>\n",
       "    <tr>\n",
       "      <th>2017-02-01 07:00:00</th>\n",
       "      <td>2017-02-01 07:00:00</td>\n",
       "      <td>1366.106</td>\n",
       "      <td>2017</td>\n",
       "      <td>2</td>\n",
       "      <td>2</td>\n",
       "      <td>7</td>\n",
       "      <td>34</td>\n",
       "      <td>1.062116</td>\n",
       "    </tr>\n",
       "    <tr>\n",
       "      <th>2017-02-01 08:00:00</th>\n",
       "      <td>2017-02-01 08:00:00</td>\n",
       "      <td>1364.453</td>\n",
       "      <td>2017</td>\n",
       "      <td>2</td>\n",
       "      <td>2</td>\n",
       "      <td>8</td>\n",
       "      <td>33</td>\n",
       "      <td>1.174152</td>\n",
       "    </tr>\n",
       "    <tr>\n",
       "      <th>2017-02-01 09:00:00</th>\n",
       "      <td>2017-02-01 09:00:00</td>\n",
       "      <td>1391.265</td>\n",
       "      <td>2017</td>\n",
       "      <td>2</td>\n",
       "      <td>2</td>\n",
       "      <td>9</td>\n",
       "      <td>34</td>\n",
       "      <td>1.062116</td>\n",
       "    </tr>\n",
       "    <tr>\n",
       "      <th>...</th>\n",
       "      <td>...</td>\n",
       "      <td>...</td>\n",
       "      <td>...</td>\n",
       "      <td>...</td>\n",
       "      <td>...</td>\n",
       "      <td>...</td>\n",
       "      <td>...</td>\n",
       "      <td>...</td>\n",
       "    </tr>\n",
       "    <tr>\n",
       "      <th>2019-12-31 19:00:00</th>\n",
       "      <td>2019-12-31 19:00:00</td>\n",
       "      <td>1546.971</td>\n",
       "      <td>2019</td>\n",
       "      <td>12</td>\n",
       "      <td>1</td>\n",
       "      <td>19</td>\n",
       "      <td>32</td>\n",
       "      <td>1.291805</td>\n",
       "    </tr>\n",
       "    <tr>\n",
       "      <th>2019-12-31 20:00:00</th>\n",
       "      <td>2019-12-31 20:00:00</td>\n",
       "      <td>1558.200</td>\n",
       "      <td>2019</td>\n",
       "      <td>12</td>\n",
       "      <td>1</td>\n",
       "      <td>20</td>\n",
       "      <td>32</td>\n",
       "      <td>1.291805</td>\n",
       "    </tr>\n",
       "    <tr>\n",
       "      <th>2019-12-31 21:00:00</th>\n",
       "      <td>2019-12-31 21:00:00</td>\n",
       "      <td>1596.966</td>\n",
       "      <td>2019</td>\n",
       "      <td>12</td>\n",
       "      <td>1</td>\n",
       "      <td>21</td>\n",
       "      <td>32</td>\n",
       "      <td>1.291805</td>\n",
       "    </tr>\n",
       "    <tr>\n",
       "      <th>2019-12-31 22:00:00</th>\n",
       "      <td>2019-12-31 22:00:00</td>\n",
       "      <td>1666.903</td>\n",
       "      <td>2019</td>\n",
       "      <td>12</td>\n",
       "      <td>1</td>\n",
       "      <td>22</td>\n",
       "      <td>32</td>\n",
       "      <td>1.291805</td>\n",
       "    </tr>\n",
       "    <tr>\n",
       "      <th>2019-12-31 23:00:00</th>\n",
       "      <td>2019-12-31 23:00:00</td>\n",
       "      <td>1641.102</td>\n",
       "      <td>2019</td>\n",
       "      <td>12</td>\n",
       "      <td>1</td>\n",
       "      <td>23</td>\n",
       "      <td>30</td>\n",
       "      <td>1.543961</td>\n",
       "    </tr>\n",
       "  </tbody>\n",
       "</table>\n",
       "<p>25531 rows × 8 columns</p>\n",
       "</div>"
      ],
      "text/plain": [
       "                                    DATE        mw  year  month  weekday  \\\n",
       "Date                                                                       \n",
       "2017-02-01 05:00:00  2017-02-01 05:00:00  1419.881  2017      2        2   \n",
       "2017-02-01 06:00:00  2017-02-01 06:00:00  1379.505  2017      2        2   \n",
       "2017-02-01 07:00:00  2017-02-01 07:00:00  1366.106  2017      2        2   \n",
       "2017-02-01 08:00:00  2017-02-01 08:00:00  1364.453  2017      2        2   \n",
       "2017-02-01 09:00:00  2017-02-01 09:00:00  1391.265  2017      2        2   \n",
       "...                                  ...       ...   ...    ...      ...   \n",
       "2019-12-31 19:00:00  2019-12-31 19:00:00  1546.971  2019     12        1   \n",
       "2019-12-31 20:00:00  2019-12-31 20:00:00  1558.200  2019     12        1   \n",
       "2019-12-31 21:00:00  2019-12-31 21:00:00  1596.966  2019     12        1   \n",
       "2019-12-31 22:00:00  2019-12-31 22:00:00  1666.903  2019     12        1   \n",
       "2019-12-31 23:00:00  2019-12-31 23:00:00  1641.102  2019     12        1   \n",
       "\n",
       "                     hour  temp     temp2  \n",
       "Date                                       \n",
       "2017-02-01 05:00:00     5    36  0.854893  \n",
       "2017-02-01 06:00:00     6    36  0.854893  \n",
       "2017-02-01 07:00:00     7    34  1.062116  \n",
       "2017-02-01 08:00:00     8    33  1.174152  \n",
       "2017-02-01 09:00:00     9    34  1.062116  \n",
       "...                   ...   ...       ...  \n",
       "2019-12-31 19:00:00    19    32  1.291805  \n",
       "2019-12-31 20:00:00    20    32  1.291805  \n",
       "2019-12-31 21:00:00    21    32  1.291805  \n",
       "2019-12-31 22:00:00    22    32  1.291805  \n",
       "2019-12-31 23:00:00    23    30  1.543961  \n",
       "\n",
       "[25531 rows x 8 columns]"
      ]
     },
     "execution_count": 5,
     "metadata": {},
     "output_type": "execute_result"
    }
   ],
   "source": [
    "mu_temp = df['temp'].mean()  \n",
    "s_temp = df['temp'].std()\n",
    "print(f\"mean temp^2: {mu_temp}, stdev: {s_temp}\")\n",
    "df['temp2'] = (df['temp'] - mu_temp) / s_temp\n",
    "df['temp2'] = df['temp2'] * df['temp2']\n",
    "df"
   ]
  },
  {
   "cell_type": "markdown",
   "metadata": {},
   "source": [
    "### Build an ordinary least squares (OLS) linear regression model on your training data to predict energy using the variables just described.\n",
    "You will want to treat hour of day, day of week, and month of year as categorical variables.\n",
    "Although it is definitely not a perfect measure of how well your model did, what is the adjusted R-squared of this model?\n"
   ]
  },
  {
   "cell_type": "code",
   "execution_count": 6,
   "metadata": {},
   "outputs": [
    {
     "name": "stdout",
     "output_type": "stream",
     "text": [
      "Intercept: 2401.674\n",
      "Coefficients:\n",
      " temp: 6.190948616699035\n",
      " temp2: 138.9670578706029\n",
      " year: -0.6951036200910419\n",
      " month: 2.7245940180431867\n",
      " weekday: -18.741028627589497\n",
      " hour: 11.252808155847589\n"
     ]
    }
   ],
   "source": [
    "predictors = ['temp', 'temp2', 'year','month','weekday', 'hour']\n",
    "outcome = 'mw'\n",
    "model = LinearRegression()\n",
    "model.fit(X=df.filter(items=predictors), y=df[outcome])\n",
    "print(f'Intercept: {model.intercept_:.3f}')\n",
    "print('Coefficients:')\n",
    "for name, coef in zip(predictors, model.coef_):\n",
    "    print(f' {name}: {coef}')"
   ]
  },
  {
   "cell_type": "code",
   "execution_count": null,
   "metadata": {},
   "outputs": [],
   "source": []
  },
  {
   "cell_type": "markdown",
   "metadata": {},
   "source": [
    "In the previous section you also noticed that temperature might have a different relationship with energy during different months of the year. \n",
    "### Plot the scatter plot between energy and temperature (as in the previous section), but only for the months of January and July.\n",
    "\n",
    "    Compare the pattern between the months that you see here.\n",
    "    It might help to overlay the plots from each month to help with this.\n"
   ]
  },
  {
   "cell_type": "code",
   "execution_count": null,
   "metadata": {},
   "outputs": [],
   "source": []
  },
  {
   "cell_type": "markdown",
   "metadata": {},
   "source": [
    "In the previous section, you also noticed that temperature might have a different relationship with energy during different times of the day. \n",
    "### Plot the scatter plot between energy and temperature (as in the previous section), but only for the hours of midnight and noon.\n",
    "\n",
    "    Compare the pattern between the hours that you see here.\n",
    "    It might help to overlay the plots from each month to help with this.\n"
   ]
  },
  {
   "cell_type": "code",
   "execution_count": null,
   "metadata": {},
   "outputs": [],
   "source": []
  },
  {
   "cell_type": "code",
   "execution_count": null,
   "metadata": {},
   "outputs": [],
   "source": []
  },
  {
   "cell_type": "code",
   "execution_count": 7,
   "metadata": {},
   "outputs": [
    {
     "name": "stdout",
     "output_type": "stream",
     "text": [
      "Intercept: 2401.674\n",
      "Coefficients:\n",
      " temp: 6.190948616699035\n",
      " temp2: 138.9670578706029\n",
      " year: -0.6951036200910419\n",
      " month: 2.7245940180431867\n",
      " weekday: -18.741028627589497\n",
      " hour: 11.252808155847589\n"
     ]
    }
   ],
   "source": [
    "# predictors = ['temp', 'temp2', 'month', 'weekday', 'hour']\n",
    "predictors = ['temp', 'temp2', 'year','month','weekday', 'hour']\n",
    "outcome = 'mw'\n",
    "model = LinearRegression()\n",
    "model.fit(X=df.filter(items=predictors), y=df[outcome ] )\n",
    "print(f'Intercept: {model.intercept_:.3f}')\n",
    "print('Coefficients:')\n",
    "for name, coef in zip(predictors, model.coef_):\n",
    "    print(f' {name}: {coef}')"
   ]
  },
  {
   "cell_type": "markdown",
   "metadata": {},
   "source": [
    "### Calculate the predictions (or fitted values) from your final linear regression model on your training data set. Calculate the MAPE for these predictions from your training data set."
   ]
  },
  {
   "cell_type": "markdown",
   "metadata": {},
   "source": [
    "Mean Absolute Percentage Error (MAPE)\n",
    "\n",
    "\\begin{align}\n",
    "{\\mbox{M}}={\\frac {1}{n}}\\sum _{{t=1}}^{n}\\left|{\\frac {A_{t}-F_{t}}{A_{t}}}\\right| * 100\n",
    "\\end{align}\n"
   ]
  },
  {
   "cell_type": "code",
   "execution_count": 8,
   "metadata": {},
   "outputs": [
    {
     "data": {
      "text/plain": [
       "Date\n",
       "2017-02-01 05:00:00    54.324267\n",
       "2017-02-01 06:00:00     2.695458\n",
       "2017-02-01 07:00:00   -38.371671\n",
       "2017-02-01 08:00:00   -60.655907\n",
       "2017-02-01 09:00:00   -35.718287\n",
       "                         ...    \n",
       "2019-12-31 19:00:00   -56.674498\n",
       "2019-12-31 20:00:00   -56.698307\n",
       "2019-12-31 21:00:00   -29.185115\n",
       "2019-12-31 22:00:00    29.499077\n",
       "2019-12-31 23:00:00   -30.214146\n",
       "Name: mw, Length: 25531, dtype: float64"
      ]
     },
     "execution_count": 8,
     "metadata": {},
     "output_type": "execute_result"
    }
   ],
   "source": [
    "fitted = model.predict(df[predictors])\n",
    "residuals = df[outcome] - fitted\n",
    "residuals"
   ]
  },
  {
   "cell_type": "code",
   "execution_count": 9,
   "metadata": {},
   "outputs": [
    {
     "data": {
      "text/plain": [
       "10.690637779488867"
      ]
     },
     "execution_count": 9,
     "metadata": {},
     "output_type": "execute_result"
    }
   ],
   "source": [
    "tmp = np.abs(residuals / df[outcome])\n",
    "tmp.shape\n",
    "mape = 1/len(df)  * np.sum(tmp * 100)\n",
    "mape"
   ]
  },
  {
   "cell_type": "code",
   "execution_count": 10,
   "metadata": {},
   "outputs": [
    {
     "data": {
      "text/html": [
       "<div>\n",
       "<style scoped>\n",
       "    .dataframe tbody tr th:only-of-type {\n",
       "        vertical-align: middle;\n",
       "    }\n",
       "\n",
       "    .dataframe tbody tr th {\n",
       "        vertical-align: top;\n",
       "    }\n",
       "\n",
       "    .dataframe thead th {\n",
       "        text-align: right;\n",
       "    }\n",
       "</style>\n",
       "<table border=\"1\" class=\"dataframe\">\n",
       "  <thead>\n",
       "    <tr style=\"text-align: right;\">\n",
       "      <th></th>\n",
       "      <th>DATE</th>\n",
       "      <th>mw</th>\n",
       "      <th>year</th>\n",
       "      <th>month</th>\n",
       "      <th>weekday</th>\n",
       "      <th>hour</th>\n",
       "      <th>temp</th>\n",
       "      <th>temp2</th>\n",
       "    </tr>\n",
       "    <tr>\n",
       "      <th>Date</th>\n",
       "      <th></th>\n",
       "      <th></th>\n",
       "      <th></th>\n",
       "      <th></th>\n",
       "      <th></th>\n",
       "      <th></th>\n",
       "      <th></th>\n",
       "      <th></th>\n",
       "    </tr>\n",
       "  </thead>\n",
       "  <tbody>\n",
       "    <tr>\n",
       "      <th>2017-02-01 05:00:00</th>\n",
       "      <td>2017-02-01 05:00:00</td>\n",
       "      <td>1419.881</td>\n",
       "      <td>2017</td>\n",
       "      <td>2</td>\n",
       "      <td>2</td>\n",
       "      <td>5</td>\n",
       "      <td>36</td>\n",
       "      <td>0.854893</td>\n",
       "    </tr>\n",
       "    <tr>\n",
       "      <th>2017-02-01 06:00:00</th>\n",
       "      <td>2017-02-01 06:00:00</td>\n",
       "      <td>1379.505</td>\n",
       "      <td>2017</td>\n",
       "      <td>2</td>\n",
       "      <td>2</td>\n",
       "      <td>6</td>\n",
       "      <td>36</td>\n",
       "      <td>0.854893</td>\n",
       "    </tr>\n",
       "    <tr>\n",
       "      <th>2017-02-01 07:00:00</th>\n",
       "      <td>2017-02-01 07:00:00</td>\n",
       "      <td>1366.106</td>\n",
       "      <td>2017</td>\n",
       "      <td>2</td>\n",
       "      <td>2</td>\n",
       "      <td>7</td>\n",
       "      <td>34</td>\n",
       "      <td>1.062116</td>\n",
       "    </tr>\n",
       "    <tr>\n",
       "      <th>2017-02-01 08:00:00</th>\n",
       "      <td>2017-02-01 08:00:00</td>\n",
       "      <td>1364.453</td>\n",
       "      <td>2017</td>\n",
       "      <td>2</td>\n",
       "      <td>2</td>\n",
       "      <td>8</td>\n",
       "      <td>33</td>\n",
       "      <td>1.174152</td>\n",
       "    </tr>\n",
       "    <tr>\n",
       "      <th>2017-02-01 09:00:00</th>\n",
       "      <td>2017-02-01 09:00:00</td>\n",
       "      <td>1391.265</td>\n",
       "      <td>2017</td>\n",
       "      <td>2</td>\n",
       "      <td>2</td>\n",
       "      <td>9</td>\n",
       "      <td>34</td>\n",
       "      <td>1.062116</td>\n",
       "    </tr>\n",
       "    <tr>\n",
       "      <th>...</th>\n",
       "      <td>...</td>\n",
       "      <td>...</td>\n",
       "      <td>...</td>\n",
       "      <td>...</td>\n",
       "      <td>...</td>\n",
       "      <td>...</td>\n",
       "      <td>...</td>\n",
       "      <td>...</td>\n",
       "    </tr>\n",
       "    <tr>\n",
       "      <th>2019-12-31 19:00:00</th>\n",
       "      <td>2019-12-31 19:00:00</td>\n",
       "      <td>1546.971</td>\n",
       "      <td>2019</td>\n",
       "      <td>12</td>\n",
       "      <td>1</td>\n",
       "      <td>19</td>\n",
       "      <td>32</td>\n",
       "      <td>1.291805</td>\n",
       "    </tr>\n",
       "    <tr>\n",
       "      <th>2019-12-31 20:00:00</th>\n",
       "      <td>2019-12-31 20:00:00</td>\n",
       "      <td>1558.200</td>\n",
       "      <td>2019</td>\n",
       "      <td>12</td>\n",
       "      <td>1</td>\n",
       "      <td>20</td>\n",
       "      <td>32</td>\n",
       "      <td>1.291805</td>\n",
       "    </tr>\n",
       "    <tr>\n",
       "      <th>2019-12-31 21:00:00</th>\n",
       "      <td>2019-12-31 21:00:00</td>\n",
       "      <td>1596.966</td>\n",
       "      <td>2019</td>\n",
       "      <td>12</td>\n",
       "      <td>1</td>\n",
       "      <td>21</td>\n",
       "      <td>32</td>\n",
       "      <td>1.291805</td>\n",
       "    </tr>\n",
       "    <tr>\n",
       "      <th>2019-12-31 22:00:00</th>\n",
       "      <td>2019-12-31 22:00:00</td>\n",
       "      <td>1666.903</td>\n",
       "      <td>2019</td>\n",
       "      <td>12</td>\n",
       "      <td>1</td>\n",
       "      <td>22</td>\n",
       "      <td>32</td>\n",
       "      <td>1.291805</td>\n",
       "    </tr>\n",
       "    <tr>\n",
       "      <th>2019-12-31 23:00:00</th>\n",
       "      <td>2019-12-31 23:00:00</td>\n",
       "      <td>1641.102</td>\n",
       "      <td>2019</td>\n",
       "      <td>12</td>\n",
       "      <td>1</td>\n",
       "      <td>23</td>\n",
       "      <td>30</td>\n",
       "      <td>1.543961</td>\n",
       "    </tr>\n",
       "  </tbody>\n",
       "</table>\n",
       "<p>25531 rows × 8 columns</p>\n",
       "</div>"
      ],
      "text/plain": [
       "                                    DATE        mw  year  month  weekday  \\\n",
       "Date                                                                       \n",
       "2017-02-01 05:00:00  2017-02-01 05:00:00  1419.881  2017      2        2   \n",
       "2017-02-01 06:00:00  2017-02-01 06:00:00  1379.505  2017      2        2   \n",
       "2017-02-01 07:00:00  2017-02-01 07:00:00  1366.106  2017      2        2   \n",
       "2017-02-01 08:00:00  2017-02-01 08:00:00  1364.453  2017      2        2   \n",
       "2017-02-01 09:00:00  2017-02-01 09:00:00  1391.265  2017      2        2   \n",
       "...                                  ...       ...   ...    ...      ...   \n",
       "2019-12-31 19:00:00  2019-12-31 19:00:00  1546.971  2019     12        1   \n",
       "2019-12-31 20:00:00  2019-12-31 20:00:00  1558.200  2019     12        1   \n",
       "2019-12-31 21:00:00  2019-12-31 21:00:00  1596.966  2019     12        1   \n",
       "2019-12-31 22:00:00  2019-12-31 22:00:00  1666.903  2019     12        1   \n",
       "2019-12-31 23:00:00  2019-12-31 23:00:00  1641.102  2019     12        1   \n",
       "\n",
       "                     hour  temp     temp2  \n",
       "Date                                       \n",
       "2017-02-01 05:00:00     5    36  0.854893  \n",
       "2017-02-01 06:00:00     6    36  0.854893  \n",
       "2017-02-01 07:00:00     7    34  1.062116  \n",
       "2017-02-01 08:00:00     8    33  1.174152  \n",
       "2017-02-01 09:00:00     9    34  1.062116  \n",
       "...                   ...   ...       ...  \n",
       "2019-12-31 19:00:00    19    32  1.291805  \n",
       "2019-12-31 20:00:00    20    32  1.291805  \n",
       "2019-12-31 21:00:00    21    32  1.291805  \n",
       "2019-12-31 22:00:00    22    32  1.291805  \n",
       "2019-12-31 23:00:00    23    30  1.543961  \n",
       "\n",
       "[25531 rows x 8 columns]"
      ]
     },
     "execution_count": 10,
     "metadata": {},
     "output_type": "execute_result"
    }
   ],
   "source": [
    "df"
   ]
  },
  {
   "cell_type": "code",
   "execution_count": 11,
   "metadata": {},
   "outputs": [
    {
     "data": {
      "text/plain": [
       "54.32426663140723"
      ]
     },
     "execution_count": 11,
     "metadata": {},
     "output_type": "execute_result"
    }
   ],
   "source": [
    "residuals.iloc[0]"
   ]
  },
  {
   "cell_type": "code",
   "execution_count": 15,
   "metadata": {},
   "outputs": [
    {
     "data": {
      "image/png": "[encoded data removed]",
      "text/plain": [
       "<Figure size 648x504 with 2 Axes>"
      ]
     },
     "metadata": {
      "needs_background": "light"
     },
     "output_type": "display_data"
    }
   ],
   "source": [
    "ax1 = df['mw'].plot(color = 'blue', figsize=(9,7))\n",
    "ax1.set_ylabel('mw')\n",
    "ax1.set_xlabel('Date')\n",
    "ax2 = ax1.twinx()\n",
    "ax2 = residuals.plot(color = 'green', figsize=(9,7))\n",
    "ax2.set_ylabel('mw pred')\n",
    "plt.show()"
   ]
  },
  {
   "cell_type": "code",
   "execution_count": 21,
   "metadata": {},
   "outputs": [
    {
     "data": {
      "text/html": [
       "<div>\n",
       "<style scoped>\n",
       "    .dataframe tbody tr th:only-of-type {\n",
       "        vertical-align: middle;\n",
       "    }\n",
       "\n",
       "    .dataframe tbody tr th {\n",
       "        vertical-align: top;\n",
       "    }\n",
       "\n",
       "    .dataframe thead th {\n",
       "        text-align: right;\n",
       "    }\n",
       "</style>\n",
       "<table border=\"1\" class=\"dataframe\">\n",
       "  <thead>\n",
       "    <tr style=\"text-align: right;\">\n",
       "      <th></th>\n",
       "      <th>DATE</th>\n",
       "      <th>mw</th>\n",
       "      <th>year</th>\n",
       "      <th>month</th>\n",
       "      <th>weekday</th>\n",
       "      <th>hour</th>\n",
       "      <th>temp</th>\n",
       "      <th>temp2</th>\n",
       "    </tr>\n",
       "    <tr>\n",
       "      <th>Date</th>\n",
       "      <th></th>\n",
       "      <th></th>\n",
       "      <th></th>\n",
       "      <th></th>\n",
       "      <th></th>\n",
       "      <th></th>\n",
       "      <th></th>\n",
       "      <th></th>\n",
       "    </tr>\n",
       "  </thead>\n",
       "  <tbody>\n",
       "    <tr>\n",
       "      <th>2020-01-01 01:00:00</th>\n",
       "      <td>2020-01-01 01:00:00</td>\n",
       "      <td>1565.014</td>\n",
       "      <td>2020</td>\n",
       "      <td>1</td>\n",
       "      <td>2</td>\n",
       "      <td>1</td>\n",
       "      <td>31</td>\n",
       "      <td>1.415075</td>\n",
       "    </tr>\n",
       "    <tr>\n",
       "      <th>2020-01-01 02:00:00</th>\n",
       "      <td>2020-01-01 02:00:00</td>\n",
       "      <td>1515.905</td>\n",
       "      <td>2020</td>\n",
       "      <td>1</td>\n",
       "      <td>2</td>\n",
       "      <td>2</td>\n",
       "      <td>29</td>\n",
       "      <td>1.678463</td>\n",
       "    </tr>\n",
       "    <tr>\n",
       "      <th>2020-01-01 03:00:00</th>\n",
       "      <td>2020-01-01 03:00:00</td>\n",
       "      <td>1474.519</td>\n",
       "      <td>2020</td>\n",
       "      <td>1</td>\n",
       "      <td>2</td>\n",
       "      <td>3</td>\n",
       "      <td>30</td>\n",
       "      <td>1.543961</td>\n",
       "    </tr>\n",
       "    <tr>\n",
       "      <th>2020-01-01 04:00:00</th>\n",
       "      <td>2020-01-01 04:00:00</td>\n",
       "      <td>1421.717</td>\n",
       "      <td>2020</td>\n",
       "      <td>1</td>\n",
       "      <td>2</td>\n",
       "      <td>4</td>\n",
       "      <td>30</td>\n",
       "      <td>1.543961</td>\n",
       "    </tr>\n",
       "    <tr>\n",
       "      <th>2020-01-01 05:00:00</th>\n",
       "      <td>2020-01-01 05:00:00</td>\n",
       "      <td>1363.428</td>\n",
       "      <td>2020</td>\n",
       "      <td>1</td>\n",
       "      <td>2</td>\n",
       "      <td>5</td>\n",
       "      <td>31</td>\n",
       "      <td>1.415075</td>\n",
       "    </tr>\n",
       "    <tr>\n",
       "      <th>...</th>\n",
       "      <td>...</td>\n",
       "      <td>...</td>\n",
       "      <td>...</td>\n",
       "      <td>...</td>\n",
       "      <td>...</td>\n",
       "      <td>...</td>\n",
       "      <td>...</td>\n",
       "      <td>...</td>\n",
       "    </tr>\n",
       "    <tr>\n",
       "      <th>2020-02-01 00:00:00</th>\n",
       "      <td>2020-02-01 00:00:00</td>\n",
       "      <td>1618.484</td>\n",
       "      <td>2020</td>\n",
       "      <td>2</td>\n",
       "      <td>5</td>\n",
       "      <td>0</td>\n",
       "      <td>34</td>\n",
       "      <td>1.062116</td>\n",
       "    </tr>\n",
       "    <tr>\n",
       "      <th>2020-02-01 01:00:00</th>\n",
       "      <td>2020-02-01 01:00:00</td>\n",
       "      <td>1580.925</td>\n",
       "      <td>2020</td>\n",
       "      <td>2</td>\n",
       "      <td>5</td>\n",
       "      <td>1</td>\n",
       "      <td>32</td>\n",
       "      <td>1.291805</td>\n",
       "    </tr>\n",
       "    <tr>\n",
       "      <th>2020-02-01 02:00:00</th>\n",
       "      <td>2020-02-01 02:00:00</td>\n",
       "      <td>1545.354</td>\n",
       "      <td>2020</td>\n",
       "      <td>2</td>\n",
       "      <td>5</td>\n",
       "      <td>2</td>\n",
       "      <td>32</td>\n",
       "      <td>1.291805</td>\n",
       "    </tr>\n",
       "    <tr>\n",
       "      <th>2020-02-01 03:00:00</th>\n",
       "      <td>2020-02-01 03:00:00</td>\n",
       "      <td>1478.832</td>\n",
       "      <td>2020</td>\n",
       "      <td>2</td>\n",
       "      <td>5</td>\n",
       "      <td>3</td>\n",
       "      <td>32</td>\n",
       "      <td>1.291805</td>\n",
       "    </tr>\n",
       "    <tr>\n",
       "      <th>2020-02-01 04:00:00</th>\n",
       "      <td>2020-02-01 04:00:00</td>\n",
       "      <td>1405.188</td>\n",
       "      <td>2020</td>\n",
       "      <td>2</td>\n",
       "      <td>5</td>\n",
       "      <td>4</td>\n",
       "      <td>32</td>\n",
       "      <td>1.291805</td>\n",
       "    </tr>\n",
       "  </tbody>\n",
       "</table>\n",
       "<p>748 rows × 8 columns</p>\n",
       "</div>"
      ],
      "text/plain": [
       "                                    DATE        mw  year  month  weekday  \\\n",
       "Date                                                                       \n",
       "2020-01-01 01:00:00  2020-01-01 01:00:00  1565.014  2020      1        2   \n",
       "2020-01-01 02:00:00  2020-01-01 02:00:00  1515.905  2020      1        2   \n",
       "2020-01-01 03:00:00  2020-01-01 03:00:00  1474.519  2020      1        2   \n",
       "2020-01-01 04:00:00  2020-01-01 04:00:00  1421.717  2020      1        2   \n",
       "2020-01-01 05:00:00  2020-01-01 05:00:00  1363.428  2020      1        2   \n",
       "...                                  ...       ...   ...    ...      ...   \n",
       "2020-02-01 00:00:00  2020-02-01 00:00:00  1618.484  2020      2        5   \n",
       "2020-02-01 01:00:00  2020-02-01 01:00:00  1580.925  2020      2        5   \n",
       "2020-02-01 02:00:00  2020-02-01 02:00:00  1545.354  2020      2        5   \n",
       "2020-02-01 03:00:00  2020-02-01 03:00:00  1478.832  2020      2        5   \n",
       "2020-02-01 04:00:00  2020-02-01 04:00:00  1405.188  2020      2        5   \n",
       "\n",
       "                     hour  temp     temp2  \n",
       "Date                                       \n",
       "2020-01-01 01:00:00     1    31  1.415075  \n",
       "2020-01-01 02:00:00     2    29  1.678463  \n",
       "2020-01-01 03:00:00     3    30  1.543961  \n",
       "2020-01-01 04:00:00     4    30  1.543961  \n",
       "2020-01-01 05:00:00     5    31  1.415075  \n",
       "...                   ...   ...       ...  \n",
       "2020-02-01 00:00:00     0    34  1.062116  \n",
       "2020-02-01 01:00:00     1    32  1.291805  \n",
       "2020-02-01 02:00:00     2    32  1.291805  \n",
       "2020-02-01 03:00:00     3    32  1.291805  \n",
       "2020-02-01 04:00:00     4    32  1.291805  \n",
       "\n",
       "[748 rows x 8 columns]"
      ]
     },
     "execution_count": 21,
     "metadata": {},
     "output_type": "execute_result"
    }
   ],
   "source": [
    "test_df = pd.read_csv('timeseries_test.csv')\n",
    "test_df.rename(columns={\"HourlyDryBulbTemperature\": \"temp\", \"datetime_beginning_utc\":\"Date\"}, inplace=True)\n",
    "test_df['Date'] = pd.to_datetime(test_df['Date'])\n",
    "test_df = test_df.set_index('Date')\n",
    "test_df['temp2'] = (test_df['temp'] - mu_temp) / s_temp\n",
    "test_df['temp2'] = test_df['temp2'] * test_df['temp2']\n",
    "test_df"
   ]
  },
  {
   "cell_type": "code",
   "execution_count": 28,
   "metadata": {},
   "outputs": [],
   "source": [
    "preds = model.predict(X=test_df.filter(items=predictors))"
   ]
  },
  {
   "cell_type": "code",
   "execution_count": 35,
   "metadata": {},
   "outputs": [],
   "source": [
    "# pred_df = pd.DataFrame({'yhat': preds, \"Date\": test_df.DATE})\n",
    "# pred_df = pred_df.set_index('Date')\n",
    "# pred_df\n",
    "preds_df = test_df.copy()\n",
    "preds_df['mw'] = preds"
   ]
  },
  {
   "cell_type": "code",
   "execution_count": 36,
   "metadata": {},
   "outputs": [
    {
     "data": {
      "image/png": "[encoded data removed]",
      "text/plain": [
       "<Figure size 648x504 with 2 Axes>"
      ]
     },
     "metadata": {
      "needs_background": "light"
     },
     "output_type": "display_data"
    },
    {
     "data": {
      "image/png": "[encoded data removed]",
      "text/plain": [
       "<Figure size 648x504 with 1 Axes>"
      ]
     },
     "metadata": {
      "needs_background": "light"
     },
     "output_type": "display_data"
    }
   ],
   "source": [
    "ax1 = test_df['mw'].plot(color = 'blue', figsize=(9,7))\n",
    "ax1.set_ylabel('mw')\n",
    "ax1.set_xlabel('Date')\n",
    "ax2 = ax1.twinx()\n",
    "ax2 = pred_df.plot(color = 'green', figsize=(9,7))\n",
    "ax2.set_ylabel('mw pred')\n",
    "plt.show()"
   ]
  },
  {
   "cell_type": "markdown",
   "metadata": {},
   "source": [
    "###    “Forecast” out your model by scoring your test data set with the linear regression you built. Remember, we don’t want to build a model on the test data set, just run the observations through the equation we got from the training model. These are your January 2020 predictions! Plot your predicted energy values of your test data set against the actual energy values. How do you like your forecast? "
   ]
  },
  {
   "cell_type": "code",
   "execution_count": null,
   "metadata": {},
   "outputs": [],
   "source": []
  },
  {
   "cell_type": "code",
   "execution_count": null,
   "metadata": {},
   "outputs": [],
   "source": []
  }
 ],
 "metadata": {
  "kernelspec": {
   "display_name": "Python 3",
   "language": "python",
   "name": "python3"
  },
  "language_info": {
   "codemirror_mode": {
    "name": "ipython",
    "version": 3
   },
   "file_extension": ".py",
   "mimetype": "text/x-python",
   "name": "python",
   "nbconvert_exporter": "python",
   "pygments_lexer": "ipython3",
   "version": "3.7.6"
  }
 },
 "nbformat": 4,
 "nbformat_minor": 4
}
